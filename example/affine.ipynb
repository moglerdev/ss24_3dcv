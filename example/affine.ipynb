{
 "cells": [
  {
   "cell_type": "code",
   "execution_count": 1,
   "id": "987ce846-a8bf-42cd-9ff4-a8e6da3ea5d8",
   "metadata": {},
   "outputs": [
    {
     "ename": "ModuleNotFoundError",
     "evalue": "No module named 'matplotlib'",
     "output_type": "error",
     "traceback": [
      "\u001b[0;31m---------------------------------------------------------------------------\u001b[0m",
      "\u001b[0;31mModuleNotFoundError\u001b[0m                       Traceback (most recent call last)",
      "Cell \u001b[0;32mIn[1], line 1\u001b[0m\n\u001b[0;32m----> 1\u001b[0m \u001b[38;5;28;01mimport\u001b[39;00m \u001b[38;5;21;01mmatplotlib\u001b[39;00m\u001b[38;5;21;01m.\u001b[39;00m\u001b[38;5;21;01mpyplot\u001b[39;00m \u001b[38;5;28;01mas\u001b[39;00m \u001b[38;5;21;01mplt\u001b[39;00m\n\u001b[1;32m      2\u001b[0m \u001b[38;5;28;01mimport\u001b[39;00m \u001b[38;5;21;01mnumpy\u001b[39;00m \u001b[38;5;28;01mas\u001b[39;00m \u001b[38;5;21;01mnp\u001b[39;00m\n\u001b[1;32m      3\u001b[0m \u001b[38;5;28;01mimport\u001b[39;00m \u001b[38;5;21;01mmath\u001b[39;00m\n",
      "\u001b[0;31mModuleNotFoundError\u001b[0m: No module named 'matplotlib'"
     ]
    }
   ],
   "source": [
    "import matplotlib.pyplot as plt\n",
    "import numpy as np\n",
    "import math\n",
    "\n",
    "# x1, y1 = [-1, 12], [1, 4]\n",
    "# x2, y2 = [1, 10], [3, 2]\n",
    "# plt.plot(x1, y1, x2, y2, marker = 'o')\n",
    "\n",
    "def R_z(rad):\n",
    "    zcos = math.cos(rad)\n",
    "    zsin = math.sqrt(1 - zcos**2)\n",
    "    return np.matrix([\n",
    "        [zcos, -zsin, 0, 0],\n",
    "        [zsin, zcos, 0, 0],\n",
    "        [0, 0, 1, 0],\n",
    "        [0, 0, 0, 1]\n",
    "    ])\n",
    "\n",
    "def R_y(rad):\n",
    "    ycos = math.cos(rad)\n",
    "    ysin = math.sqrt(1 - ycos**2)\n",
    "    return np.matrix([\n",
    "        [ycos, 0, ysin, 0],\n",
    "        [0, 1, 0, 0],\n",
    "        [-ysin, 0, ycos, 0],\n",
    "        [0, 0, 0, 1]\n",
    "    ])\n",
    "\n",
    "theta = 0.4\n",
    "phi = 0.4\n",
    "psi = 0.2\n",
    "\n",
    "t = np.array([[1, 0, 0, 1]])\n",
    "\n",
    "M_b = R_z(theta) * R_y(phi) * R_z(psi) * R_y(-phi) * R_z(-theta)\n",
    "# M_b = M_b + (t)\n",
    "print(M_b)"
   ]
  },
  {
   "cell_type": "code",
   "execution_count": null,
   "id": "7b69b707-5b72-4690-ac75-2e475e009958",
   "metadata": {},
   "outputs": [],
   "source": []
  }
 ],
 "metadata": {
  "kernelspec": {
   "display_name": "Python 3 (ipykernel)",
   "language": "python",
   "name": "python3"
  },
  "language_info": {
   "codemirror_mode": {
    "name": "ipython",
    "version": 3
   },
   "file_extension": ".py",
   "mimetype": "text/x-python",
   "name": "python",
   "nbconvert_exporter": "python",
   "pygments_lexer": "ipython3",
   "version": "3.11.8"
  }
 },
 "nbformat": 4,
 "nbformat_minor": 5
}
